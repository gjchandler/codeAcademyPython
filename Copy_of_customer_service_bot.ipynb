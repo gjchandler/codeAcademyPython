{
  "nbformat": 4,
  "nbformat_minor": 0,
  "metadata": {
    "colab": {
      "name": "Copy of customer_service_bot.ipynb",
      "version": "0.3.2",
      "provenance": [],
      "collapsed_sections": [],
      "include_colab_link": true
    },
    "kernelspec": {
      "display_name": "Python 3",
      "language": "python",
      "name": "python3"
    }
  },
  "cells": [
    {
      "cell_type": "markdown",
      "metadata": {
        "id": "view-in-github",
        "colab_type": "text"
      },
      "source": [
        "<a href=\"https://colab.research.google.com/github/gjchandler/codeAcademyPython/blob/master/Copy_of_customer_service_bot.ipynb\" target=\"_parent\"><img src=\"https://colab.research.google.com/assets/colab-badge.svg\" alt=\"Open In Colab\"/></a>"
      ]
    },
    {
      "metadata": {
        "id": "mhVAimetTRJv",
        "colab_type": "text"
      },
      "cell_type": "markdown",
      "source": [
        "# Off-Platform Project 1: Customer Service Bot\n",
        "\n",
        "Hi there! In this off-platform project, you will be working as a software engineer for the **Definitely Not Sinister Cable Company**! They have hired you to build a bot that can handle basic customer service requests on their website.\n",
        "\n",
        "First, you will learn a little bit about handling user input, then we will jump right in and start building the functions you need to generate an interactive customer serivce bot.\n",
        "\n",
        "Let's get started!"
      ]
    },
    {
      "metadata": {
        "id": "aScO6oqxTRJw",
        "colab_type": "text"
      },
      "cell_type": "markdown",
      "source": [
        "## Input( )\n",
        "\n",
        "In Python 3, you can handle basic user text input by using the built-in function `input()`. This is how we will have users interact with your customer service bot. You use `input()` by defining a variable and setting it equal to `input(\"text the user is responding to\")`. \n",
        "\n",
        "Run the following two code blocks to see how `input()` works."
      ]
    },
    {
      "metadata": {
        "id": "4IpMgRr_TRJx",
        "colab_type": "code",
        "outputId": "8f42ad1d-8cd0-4b6f-88f3-88610a202994",
        "colab": {
          "base_uri": "https://localhost:8080/",
          "height": 34
        }
      },
      "cell_type": "code",
      "source": [
        "name = input(\"What is your name? \")"
      ],
      "execution_count": 0,
      "outputs": [
        {
          "output_type": "stream",
          "text": [
            "What is your name? Grant\n"
          ],
          "name": "stdout"
        }
      ]
    },
    {
      "metadata": {
        "id": "tbiQLeVXTRJ1",
        "colab_type": "code",
        "outputId": "cae7a3ca-39aa-479a-bce7-d87f98034013",
        "colab": {
          "base_uri": "https://localhost:8080/",
          "height": 34
        }
      },
      "cell_type": "code",
      "source": [
        "print(name)"
      ],
      "execution_count": 0,
      "outputs": [
        {
          "output_type": "stream",
          "text": [
            "Grant\n"
          ],
          "name": "stdout"
        }
      ]
    },
    {
      "metadata": {
        "id": "r59Hn2DLTRJ5",
        "colab_type": "text"
      },
      "cell_type": "markdown",
      "source": [
        "Your response to the question \"What is your name?\" was stored in the variable `name`, which was then printed in the next cell.  Great, that's all you need to know for now! Let's get started building the customer service bot!\n",
        "\n",
        "## Step 1\n",
        "\n",
        "Before going any further, Go to the 'Cell' drop down at the menu at the top of this notebook and select 'Run All'. This will run all of the cells below so that everything we need to build the customer service bot is ready.\n",
        "\n",
        "## Step 2\n",
        "\n",
        "Great, let's get started. First in the cell below, define the function `cs_service_bot`. This will be our main function. Every time a user accesses our support, this function will be called and will guide them through a decision tree to identify their support needs and find them a solution.\n",
        "\n",
        "1. This function should start by printing:\n",
        "            Hello! Welcome to the DNS Cable Company's Service Portal. Are you a new or existing customer?\n",
        "            [1] New Customer\n",
        "            [2] Existing Customer\n",
        "   You can store this all in a single string and use the escape character `\\n` to indicate line breaks.\n",
        "\n",
        "2. Next we want to ask them to choose an option. We are going to do that using `input()`. Make a variable called `response` and have it save the users response using `input()`. You should include text to let the user know how they should make their choice, such as:\n",
        "            Please enter the number corresponding to your choice: \n",
        "3. If the user selects `1` the function should direct them to another function `new_customer()`. We will define this function later.\n",
        "4. If the user selects `2` the function should direct them to another function `existing_customer()`. We will define this function later as well.\n",
        "5. Finally, if the user enters something other than a `1` or `2` we want our function to print \n",
        "            Sorry, we didn't understand your selection.\n",
        "   and then run `cs_service_bot` again to let them make another choice."
      ]
    },
    {
      "metadata": {
        "id": "hp3ANv81TRJ6",
        "colab_type": "code",
        "colab": {}
      },
      "cell_type": "code",
      "source": [
        "def cs_service_bot():\n",
        "    print(\"Hello! Welcome to the DNS Cable Company's Service Portal. Are you a new or existing customer?\\n[1] New Customer\\n[2] Existing Customer\")    \n",
        "    response = input(\"Please enter the number corresponding to your choice:\")\n",
        "    if response==str(1) or response==1:\n",
        "      result = new_customer()\n",
        "    elif response==str(2) or response==2:\n",
        "      result = existing_customer()\n",
        "    else:\n",
        "      result = \"Sorry, we didn't understand your selection.\"\n",
        "    return result"
      ],
      "execution_count": 0,
      "outputs": []
    },
    {
      "metadata": {
        "id": "VcXCgmNzTRJ9",
        "colab_type": "text"
      },
      "cell_type": "markdown",
      "source": [
        "Great Job! Run `cs_service_bot()` in the cell below and see how it works."
      ]
    },
    {
      "metadata": {
        "id": "2kr99SGUTRJ-",
        "colab_type": "code",
        "outputId": "ce6dca2e-5d22-437e-9961-2f223d62a809",
        "colab": {
          "base_uri": "https://localhost:8080/",
          "height": 1000
        }
      },
      "cell_type": "code",
      "source": [
        "cs_service_bot()"
      ],
      "execution_count": 0,
      "outputs": [
        {
          "output_type": "stream",
          "text": [
            "Hello! Welcome to the DNS Cable Company's Service Portal. Are you a new or existing customer?\n",
            "[1] New Customer\n",
            "[2] Existing Customer\n",
            "Please enter the number corresponding to your choice:2\n",
            "What kind of support do you need?\n",
            "[1] Television Support\n",
            "[2] Internet Support\n",
            "[3] Speak to a support representative. \n",
            "Please enter the number corresponding to your choice:1\n",
            "What is the nature of your problem?\n",
            "[1] I can't access certain channels.\n",
            "[2] My picture is blurry.\n",
            "[3] I keep losing service.\n",
            "[4] Other issues.\n",
            "Please enter the number corresponding to your choice:1\n",
            "Please check the channel lists at DefinitelyNotSinister.com. If the channel you cannot access is there, please contact a live representative.\n",
            "Did that solve the problem? [Yes] or [No]No\n",
            "Would you like to:\n",
            "  [1]Talk to a live representative.\n",
            " . [2]Schedule a home visit.2\n"
          ],
          "name": "stdout"
        },
        {
          "output_type": "error",
          "ename": "NameError",
          "evalue": "ignored",
          "traceback": [
            "\u001b[0;31m---------------------------------------------------------------------------\u001b[0m",
            "\u001b[0;31mNameError\u001b[0m                                 Traceback (most recent call last)",
            "\u001b[0;32m<ipython-input-69-e2536fcc94ec>\u001b[0m in \u001b[0;36m<module>\u001b[0;34m()\u001b[0m\n\u001b[0;32m----> 1\u001b[0;31m \u001b[0mcs_service_bot\u001b[0m\u001b[0;34m(\u001b[0m\u001b[0;34m)\u001b[0m\u001b[0;34m\u001b[0m\u001b[0;34m\u001b[0m\u001b[0m\n\u001b[0m",
            "\u001b[0;32m<ipython-input-59-c1b941bc5347>\u001b[0m in \u001b[0;36mcs_service_bot\u001b[0;34m()\u001b[0m\n\u001b[1;32m      5\u001b[0m       \u001b[0mresult\u001b[0m \u001b[0;34m=\u001b[0m \u001b[0mnew_customer\u001b[0m\u001b[0;34m(\u001b[0m\u001b[0;34m)\u001b[0m\u001b[0;34m\u001b[0m\u001b[0;34m\u001b[0m\u001b[0m\n\u001b[1;32m      6\u001b[0m     \u001b[0;32melif\u001b[0m \u001b[0mresponse\u001b[0m\u001b[0;34m==\u001b[0m\u001b[0mstr\u001b[0m\u001b[0;34m(\u001b[0m\u001b[0;36m2\u001b[0m\u001b[0;34m)\u001b[0m \u001b[0;32mor\u001b[0m \u001b[0mresponse\u001b[0m\u001b[0;34m==\u001b[0m\u001b[0;36m2\u001b[0m\u001b[0;34m:\u001b[0m\u001b[0;34m\u001b[0m\u001b[0;34m\u001b[0m\u001b[0m\n\u001b[0;32m----> 7\u001b[0;31m       \u001b[0mresult\u001b[0m \u001b[0;34m=\u001b[0m \u001b[0mexisting_customer\u001b[0m\u001b[0;34m(\u001b[0m\u001b[0;34m)\u001b[0m\u001b[0;34m\u001b[0m\u001b[0;34m\u001b[0m\u001b[0m\n\u001b[0m\u001b[1;32m      8\u001b[0m     \u001b[0;32melse\u001b[0m\u001b[0;34m:\u001b[0m\u001b[0;34m\u001b[0m\u001b[0;34m\u001b[0m\u001b[0m\n\u001b[1;32m      9\u001b[0m       \u001b[0mresult\u001b[0m \u001b[0;34m=\u001b[0m \u001b[0;34m\"Sorry, we didn't understand your selection.\"\u001b[0m\u001b[0;34m\u001b[0m\u001b[0;34m\u001b[0m\u001b[0m\n",
            "\u001b[0;32m<ipython-input-57-2ce4dda17309>\u001b[0m in \u001b[0;36mexisting_customer\u001b[0;34m()\u001b[0m\n\u001b[1;32m      3\u001b[0m     \u001b[0mresponse\u001b[0m \u001b[0;34m=\u001b[0m \u001b[0minput\u001b[0m\u001b[0;34m(\u001b[0m\u001b[0;34m\"Please enter the number corresponding to your choice:\"\u001b[0m\u001b[0;34m)\u001b[0m\u001b[0;34m\u001b[0m\u001b[0;34m\u001b[0m\u001b[0m\n\u001b[1;32m      4\u001b[0m     \u001b[0;32mif\u001b[0m \u001b[0mresponse\u001b[0m\u001b[0;34m==\u001b[0m\u001b[0mstr\u001b[0m\u001b[0;34m(\u001b[0m\u001b[0;36m1\u001b[0m\u001b[0;34m)\u001b[0m \u001b[0;32mor\u001b[0m \u001b[0mresponse\u001b[0m\u001b[0;34m==\u001b[0m\u001b[0;36m1\u001b[0m\u001b[0;34m:\u001b[0m\u001b[0;34m\u001b[0m\u001b[0;34m\u001b[0m\u001b[0m\n\u001b[0;32m----> 5\u001b[0;31m       \u001b[0mresult\u001b[0m \u001b[0;34m=\u001b[0m \u001b[0mtelevision_support\u001b[0m\u001b[0;34m(\u001b[0m\u001b[0;34m)\u001b[0m\u001b[0;34m\u001b[0m\u001b[0;34m\u001b[0m\u001b[0m\n\u001b[0m\u001b[1;32m      6\u001b[0m     \u001b[0;32melif\u001b[0m \u001b[0mresponse\u001b[0m\u001b[0;34m==\u001b[0m\u001b[0mstr\u001b[0m\u001b[0;34m(\u001b[0m\u001b[0;36m2\u001b[0m\u001b[0;34m)\u001b[0m \u001b[0;32mor\u001b[0m \u001b[0mresponse\u001b[0m\u001b[0;34m==\u001b[0m\u001b[0;36m2\u001b[0m\u001b[0;34m:\u001b[0m\u001b[0;34m\u001b[0m\u001b[0;34m\u001b[0m\u001b[0m\n\u001b[1;32m      7\u001b[0m       \u001b[0mresult\u001b[0m \u001b[0;34m=\u001b[0m \u001b[0minternet_support\u001b[0m\u001b[0;34m(\u001b[0m\u001b[0;34m)\u001b[0m\u001b[0;34m\u001b[0m\u001b[0;34m\u001b[0m\u001b[0m\n",
            "\u001b[0;32m<ipython-input-66-98e6769df934>\u001b[0m in \u001b[0;36mtelevision_support\u001b[0;34m()\u001b[0m\n\u001b[1;32m      4\u001b[0m   \u001b[0;32mif\u001b[0m \u001b[0mresponse\u001b[0m\u001b[0;34m==\u001b[0m\u001b[0mstr\u001b[0m\u001b[0;34m(\u001b[0m\u001b[0;36m1\u001b[0m\u001b[0;34m)\u001b[0m \u001b[0;32mor\u001b[0m \u001b[0mresponse\u001b[0m\u001b[0;34m==\u001b[0m\u001b[0;36m1\u001b[0m\u001b[0;34m:\u001b[0m\u001b[0;34m\u001b[0m\u001b[0;34m\u001b[0m\u001b[0m\n\u001b[1;32m      5\u001b[0m     \u001b[0mprint\u001b[0m\u001b[0;34m(\u001b[0m\u001b[0;34m\"Please check the channel lists at DefinitelyNotSinister.com. If the channel you cannot access is there, please contact a live representative.\"\u001b[0m\u001b[0;34m)\u001b[0m\u001b[0;34m\u001b[0m\u001b[0;34m\u001b[0m\u001b[0m\n\u001b[0;32m----> 6\u001b[0;31m     \u001b[0mresult\u001b[0m \u001b[0;34m=\u001b[0m \u001b[0mdid_that_help\u001b[0m\u001b[0;34m(\u001b[0m\u001b[0;34m)\u001b[0m\u001b[0;34m\u001b[0m\u001b[0;34m\u001b[0m\u001b[0m\n\u001b[0m\u001b[1;32m      7\u001b[0m   \u001b[0;32melif\u001b[0m \u001b[0mresponse\u001b[0m\u001b[0;34m==\u001b[0m\u001b[0mstr\u001b[0m\u001b[0;34m(\u001b[0m\u001b[0;36m2\u001b[0m\u001b[0;34m)\u001b[0m \u001b[0;32mor\u001b[0m \u001b[0mresponse\u001b[0m\u001b[0;34m==\u001b[0m\u001b[0;36m2\u001b[0m\u001b[0;34m:\u001b[0m\u001b[0;34m\u001b[0m\u001b[0;34m\u001b[0m\u001b[0m\n\u001b[1;32m      8\u001b[0m     \u001b[0mprint\u001b[0m\u001b[0;34m(\u001b[0m\u001b[0;34m\"Try adjusting the antenna above your television set.\"\u001b[0m\u001b[0;34m)\u001b[0m\u001b[0;34m\u001b[0m\u001b[0;34m\u001b[0m\u001b[0m\n",
            "\u001b[0;32m<ipython-input-68-c2d71238fd04>\u001b[0m in \u001b[0;36mdid_that_help\u001b[0;34m()\u001b[0m\n\u001b[1;32m      5\u001b[0m   \u001b[0;32melif\u001b[0m \u001b[0mresponse1\u001b[0m \u001b[0;34m==\u001b[0m\u001b[0;34m\"No\"\u001b[0m \u001b[0;32mor\u001b[0m \u001b[0minput\u001b[0m \u001b[0;34m==\u001b[0m \u001b[0;34m\"no\"\u001b[0m\u001b[0;34m:\u001b[0m\u001b[0;34m\u001b[0m\u001b[0;34m\u001b[0m\u001b[0m\n\u001b[1;32m      6\u001b[0m     \u001b[0mresponse2\u001b[0m \u001b[0;34m=\u001b[0m \u001b[0minput\u001b[0m\u001b[0;34m(\u001b[0m\u001b[0;34m\"Would you like to:\\n  [1]Talk to a live representative.\\n . [2]Schedule a home visit.\"\u001b[0m\u001b[0;34m)\u001b[0m\u001b[0;34m\u001b[0m\u001b[0;34m\u001b[0m\u001b[0m\n\u001b[0;32m----> 7\u001b[0;31m     \u001b[0;32mif\u001b[0m \u001b[0mresponse2\u001b[0m\u001b[0;34m==\u001b[0m\u001b[0mstr\u001b[0m\u001b[0;34m(\u001b[0m\u001b[0;36m1\u001b[0m\u001b[0;34m)\u001b[0m \u001b[0;32mor\u001b[0m \u001b[0mresponse\u001b[0m\u001b[0;34m==\u001b[0m\u001b[0;36m1\u001b[0m\u001b[0;34m:\u001b[0m\u001b[0;34m\u001b[0m\u001b[0;34m\u001b[0m\u001b[0m\n\u001b[0m\u001b[1;32m      8\u001b[0m       \u001b[0mresult\u001b[0m \u001b[0;34m=\u001b[0m \u001b[0mlive_rep\u001b[0m\u001b[0;34m(\u001b[0m\u001b[0;34m\"support\"\u001b[0m\u001b[0;34m)\u001b[0m\u001b[0;34m\u001b[0m\u001b[0;34m\u001b[0m\u001b[0m\n\u001b[1;32m      9\u001b[0m     \u001b[0;32melif\u001b[0m \u001b[0mresponse2\u001b[0m\u001b[0;34m==\u001b[0m\u001b[0mstr\u001b[0m\u001b[0;34m(\u001b[0m\u001b[0;36m2\u001b[0m\u001b[0;34m)\u001b[0m \u001b[0;32mor\u001b[0m \u001b[0mresponse\u001b[0m\u001b[0;34m==\u001b[0m\u001b[0;36m2\u001b[0m\u001b[0;34m:\u001b[0m\u001b[0;34m\u001b[0m\u001b[0;34m\u001b[0m\u001b[0m\n",
            "\u001b[0;31mNameError\u001b[0m: name 'response' is not defined"
          ]
        }
      ]
    },
    {
      "metadata": {
        "collapsed": true,
        "id": "OhiQGFVJTRKB",
        "colab_type": "text"
      },
      "cell_type": "markdown",
      "source": [
        "Cool! We have the initial skeleton done, now we have to define `new_customer()` and `existing_customer()`.By breaking up our bot into a bunch of smaller functions we can build each piece incrementally and check our progress as we slowly build a fully functioning product.\n",
        "\n",
        "## Step 3\n",
        "Let's start with `existing_customer()`. The options **DNS Cable Company** wants users to be able to select are \n",
        "\n",
        "            [1] Television Support\n",
        "            [2] Internet Support\n",
        "            [3] Speak to a support representative. \n",
        "\n",
        "Have `existing_customer()` print \"What kind of support do you need?\" and then these three options. Remember, use the escape character `\\n` in strings for line breaks. Use `input()` in the same way as the previous function to record the users choice.\n",
        "\n",
        "1. If they select `1`, call the function `television_support()` which will we define later.\n",
        "2. If they select `2`, call the function `internet_support()` which we will also define later.\n",
        "3. If they select `3`, call the function `live_rep()` with the argument `\"support\"`. We'll use this argument to indicate what type of live representative the user will talk to. We will define the function later.\n",
        "4. Finally, just like the `cs_service_bot()` function, if the user enters something other than the three options above, have the function print\n",
        "            Sorry, we didn't understand your selection.\n",
        "and call itself to let them try again."
      ]
    },
    {
      "metadata": {
        "id": "IbEYpFvCTRKC",
        "colab_type": "code",
        "colab": {}
      },
      "cell_type": "code",
      "source": [
        "def existing_customer():\n",
        "    print(\"What kind of support do you need?\\n[1] Television Support\\n[2] Internet Support\\n[3] Speak to a support representative. \")    \n",
        "    response = input(\"Please enter the number corresponding to your choice:\")\n",
        "    if response==str(1) or response==1:\n",
        "      result = television_support()\n",
        "    elif response==str(2) or response==2:\n",
        "      result = internet_support()\n",
        "    elif response==str(3) or response==3:\n",
        "      result = live_rep()\n",
        "    else:\n",
        "      print(\"Sorry, we didn't understand your selection.\")\n",
        "      result = existing_customer()\n",
        "    return result"
      ],
      "execution_count": 0,
      "outputs": []
    },
    {
      "metadata": {
        "id": "HKCFKsU4TRKF",
        "colab_type": "text"
      },
      "cell_type": "markdown",
      "source": [
        "## Step 4\n",
        "You can see that we've introduced a whole new slew of functions as options of `existing_customer()`, and we'll define those soon but first let's define `new_customer()`.\n",
        "\n",
        "The options the **DNS Cable Company** wants for `new_customer()` are \n",
        "              \n",
        "              [1] Sign up for service.\n",
        "              [2] Schedule a home visit.\n",
        "              [3] Speak to a sales representative.\n",
        "              \n",
        "They also want this function to greet their potential new customers with the phrase \"We're excited to have you join the DNS family, how can we help you?\" A little cheesy if you ask me but hey, the client is always right.\n",
        "\n",
        "1. If the user selects `1`, call the function `sign_up()`.\n",
        "2. If the user selects `2`, call the function `home_visit()`.\n",
        "3. If the user selects `3`, call the function `live_rep()` with the argument `\"sales\"` so the program directs them to the correct live representative.\n",
        "4. Finally, like the other functions, if the user sumbits something other than the options above, display an error message and call the function again."
      ]
    },
    {
      "metadata": {
        "id": "gfgozXofTRKG",
        "colab_type": "code",
        "colab": {}
      },
      "cell_type": "code",
      "source": [
        "def new_customer():\n",
        "    print(\"We're excited to have you join the DNS family, how can we help you?\\n[1] Sign up for service.\\n[2] Schedule a home visit.\\n[3] Speak to a sales representative.\")    \n",
        "    response = input(\"Please enter the number corresponding to your choice:\")\n",
        "    if response==str(1) or response==1:\n",
        "      result = sign_up()\n",
        "    elif response==str(2) or response==2:\n",
        "      result = home_visit()\n",
        "    elif response==str(3) or response==3:\n",
        "      result = live_rep(\"sales\")\n",
        "    else:\n",
        "      print(\"Sorry, we didn't understand your selection.\")\n",
        "      result = existing_customer()\n",
        "    return result"
      ],
      "execution_count": 0,
      "outputs": []
    },
    {
      "metadata": {
        "id": "w3zqSxcXTRKI",
        "colab_type": "text"
      },
      "cell_type": "markdown",
      "source": [
        "## Step 5\n",
        "\n",
        "Now it's time to dive down another level and start defining the next level of functions. Let's start with `television_support()`. **DNS Cable Company** has compiled the three most frequently reported issues and wants those to be surfaced as options in the bot as follows after the prompt \"What is the nature of your problem?\":\n",
        "\n",
        "            [1] I can't access certain channels.\n",
        "            [2] My picture is blurry.\n",
        "            [3] I keep losing service.\n",
        "            \n",
        "They also want a fourth catch-all option\n",
        "\n",
        "            [4] Other issues.\n",
        "            \n",
        "Now, for each of these options, they want to give the user the most useful advice they have.\n",
        "\n",
        "1. If the user enters `1` they want to print the following message and then call the function `did_that_help()` which we will define next. \n",
        "            Please check the channel lists at DefinitelyNotSinister.com. If the channel you cannot access is there, please contact a live representative.\n",
        "2. If the user enters `2` they want to print the following message and then call the function `did_that_help()`\n",
        "            Try adjusting the antenna above your television set.\n",
        "3. If the user enters `3` they want to print the following message and then call the function `did that help()`\n",
        "            Is it raining outside? If so, wait until it is not raining and then try again.\n",
        "4. If the user enters `4` it should direct them immediately to `live_rep(\"support\")`\n",
        "5. Just like the other functions, if the user enters something other than these options it should present an error message and call the function again."
      ]
    },
    {
      "metadata": {
        "id": "LJlNDm_TTRKJ",
        "colab_type": "code",
        "colab": {}
      },
      "cell_type": "code",
      "source": [
        "def television_support():\n",
        "  print(\"What is the nature of your problem?\\n[1] I can't access certain channels.\\n[2] My picture is blurry.\\n[3] I keep losing service.\\n[4] Other issues.\")\n",
        "  response = input(\"Please enter the number corresponding to your choice:\")\n",
        "  if response==str(1) or response==1:\n",
        "    print(\"Please check the channel lists at DefinitelyNotSinister.com. If the channel you cannot access is there, please contact a live representative.\")\n",
        "    result = did_that_help()\n",
        "  elif response==str(2) or response==2:\n",
        "    print(\"Try adjusting the antenna above your television set.\")\n",
        "    result = did_that_help()\n",
        "  elif response==str(3) or response==3:\n",
        "    print(\"Is it raining outside? If so, wait until it is not raining and then try again.\")\n",
        "    result = did_that_help()\n",
        "  elif response==str(4) or response==4:\n",
        "    result = live_rep(\"Support\")\n",
        "  else:\n",
        "    print(\"Sorry, we didn't understand your selection.\")\n",
        "    result = television_support()\n",
        "  return result"
      ],
      "execution_count": 0,
      "outputs": []
    },
    {
      "metadata": {
        "id": "lfU_IEEYTRKN",
        "colab_type": "text"
      },
      "cell_type": "markdown",
      "source": [
        "## Step 6\n",
        "\n",
        "Next, we will define `internet_support()`, which is will be extremely similar to the function you just defined, `television_support()` except with different possible support issues. Here are the issues that **DNS Cable Company** wants included:\n",
        "\n",
        "                [1] I can't connect to the internet.\n",
        "                [2] My connection is very slow.\n",
        "                [3] I can't access certain sites.\n",
        "                \n",
        "Just like for television support, they also want a fourth option for `Other Issues`.\n",
        "\n",
        "They've highlighted these suggested fixes for each of the issues:\n",
        "\n",
        "1. If the user selects `1`, the function should recommend the following solution and then call `did_that_help()`.\n",
        "               Unplug your router, then plug it back in, then give it a good whack, like the Fonz.\n",
        "2. If the user selects `2`, the function should recommend the following solution and then call `did_that_help()`.\n",
        "                Make sure that all cell phones and other peoples computers are not connected to the internet, so that you can have all the bandwidth.\n",
        "3. If the user selects `3`, the function should recommend the following solution and then call `did_that_help()`.\n",
        "                Move to a different region or install a VPN. Some areas block certain sites.\n",
        "4. If the user selects `4`, the function should call `live_rep(\"support\")`\n",
        "5. Finally, if the user enters something other than the options above, print an error message and recall the function."
      ]
    },
    {
      "metadata": {
        "id": "dXemE-z1TRKO",
        "colab_type": "code",
        "colab": {}
      },
      "cell_type": "code",
      "source": [
        "def internet_support():\n",
        "  print(\"What is the nature of your problem?\\n[1] I can't connect to the internet.\\n[2] My connection is very slow.\\n[3] I can't access certain sites.\")\n",
        "  response = input(\"Please enter the number corresponding to your choice:\")\n",
        "  if response==str(1) or response==1:\n",
        "    print(\"Unplug your router, then plug it back in, then give it a good whack, like the Fonz.\")\n",
        "    result = did_that_help()\n",
        "  elif response==str(2) or response==2:\n",
        "    print(\"Make sure that all cell phones and other peoples computers are not connected to the internet, so that you can have all the bandwidth.\")\n",
        "    result = did_that_help()\n",
        "  elif response==str(3) or response==3:\n",
        "    print(\"Move to a different region or install a VPN. Some areas block certain sites.\")\n",
        "    result = did_that_help()\n",
        "  elif response==str(4) or response==4:\n",
        "    result = live_rep(\"Support\")\n",
        "  else:\n",
        "    print(\"Sorry, we didn't understand your selection.\")\n",
        "    result = television_support()\n",
        "  return result"
      ],
      "execution_count": 0,
      "outputs": []
    },
    {
      "metadata": {
        "id": "agf3VUcuTRKR",
        "colab_type": "text"
      },
      "cell_type": "markdown",
      "source": [
        "## Step 7\n",
        "\n",
        "Great work! The last two functioned called the function `did_that_help()`, which we will define now. The purpose of `did_that_help()` is to check if the user was helped by the solution to their problem, and if not, ask them if they'd rather speak to a live representative over the phone or schedule a home visit.\n",
        "\n",
        "The structure of the function should be as followed:\n",
        "1. Ask the user if the solution solved their problem and have them answer Yes or No using `input()`.\n",
        "2. If yes, thank them.\n",
        "3. If no, prompt them with another question and ask them if they would rather talk to a live representative or schedule a home visit.\n",
        "4. If they want to talk to a representative, call `live_rep(\"support\")`\n",
        "5. If they want to schedule a home visit, call `home_visit(\"support\")`\n",
        "6. Make sure to include error messages for both user responses if they enter a choice not listed above"
      ]
    },
    {
      "metadata": {
        "id": "vAiS1tFOTRKR",
        "colab_type": "code",
        "colab": {}
      },
      "cell_type": "code",
      "source": [
        "def did_that_help():\n",
        "  response1 = input(\"Did that solve the problem? [Yes] or [No]\")\n",
        "  if response1 == \"Yes\" or input == \"yes\":\n",
        "    print(\"thank you\")\n",
        "  elif response1 ==\"No\" or input == \"no\":\n",
        "    response2 = input(\"Would you like to:\\n  [1]Talk to a live representative.\\n  [2]Schedule a home visit.\")\n",
        "    if response2==str(1) or response==1:\n",
        "      result = live_rep(\"support\")\n",
        "    elif response2==str(2) or response==2:\n",
        "      result = home_visit(\"support\")\n",
        "    else:\n",
        "      print(\"Sorry, we didn't understand your selection.\")\n",
        "    result = did_that_help\n",
        "  return result"
      ],
      "execution_count": 0,
      "outputs": []
    },
    {
      "metadata": {
        "id": "WZElVobPTRKW",
        "colab_type": "text"
      },
      "cell_type": "markdown",
      "source": [
        "## Step 8\n",
        "Now we've defined all of the initial options of `existing_customer()`, so we'll move onto the options for `new_customer()`, first let's define `sign_up()`.\n",
        "\n",
        "**DNS Cable Company** is very specific about the greeting they want new customers to see:\n",
        "\n",
        "                Great choice, friend! We're excited to have you join the DNS family! Please select the package you are interested in signing up for.\n",
        "                [1] Bundle Deal (Internet + Cable)\n",
        "                [2] Internet\n",
        "                [3] Cable\n",
        "                \n",
        "Apparently, they want their users to be forced to sign up if they reach this stage! Here's what they want each option to do:\n",
        "\n",
        "1. If a user selects `1`, they want to print the following message and then call `home_visit(\"new install\")`\n",
        "                You've selected the Bundle Package! Please schedule a home visit and our technician will come and set up your new service.\n",
        "2. If a user selects `2`, they want to print the following message and then call `home_visit(\"new install\")`\n",
        "                You've selected the Internet Only Package! Please schedule a home visit and our technician will come and set up your new service.\n",
        "3. If a user selects `3`, they want to print the following message and then call `home_visit(\"new install\")`\n",
        "                You've selected the Cable Only Package! Please schedule a home visit and our technician will come and set up your new service.\n",
        "4. If a user enters something other than the above choices, print an error message and call `sign_up()` again."
      ]
    },
    {
      "metadata": {
        "id": "Zax4ozpoTRKX",
        "colab_type": "code",
        "colab": {}
      },
      "cell_type": "code",
      "source": [
        "def sign_up():\n",
        "  print(\"Great choice, friend! We're excited to have you join the DNS family! Please select the package you are interested in signing up for.\\n [1] Bundle Deal (Internet + Cable)\\n [2] Internet\\n [3] Cable\")\n",
        "  response = input(\"Please enter the number corresponding to your choice:\")\n",
        "  if response==str(1) or response==1:\n",
        "    print(\" You've selected the Bundle Package! Please schedule a home visit and our technician will come and set up your new service.\")\n",
        "    result = home_visit(\"new install\")\n",
        "  elif response==str(2) or response==2:\n",
        "    print(\"You've selected the Internet Only Package! Please schedule a home visit and our technician will come and set up your new service.\")\n",
        "    result = home_visit(\"new install\")\n",
        "  elif response==str(3) or response==3:\n",
        "    print(\"You've selected the Cable Only Package! Please schedule a home visit and our technician will come and set up your new service.\")\n",
        "    result = home_visit(\"new install\")\n",
        "  else:\n",
        "    print(\"Sorry, we didn't understand your selection.\")\n",
        "    result = sign_up()\n",
        "  return result"
      ],
      "execution_count": 0,
      "outputs": []
    },
    {
      "metadata": {
        "collapsed": true,
        "id": "LHVU8ByxTRKb",
        "colab_type": "text"
      },
      "cell_type": "markdown",
      "source": [
        "## Step 9\n",
        "Now we've got an interesting function to define, `home_visit()`. We've called `home_visit()` in three different ways in other functions. In `new_customer()` we call `home_visit()` with no argument, in `internet_support()` and `television_support()` we call `home_visit(\"support\")`, and in `sign_up()` we call `home_visit(\"new install\")`.\n",
        "\n",
        "This means we want `home_visit()` to take a parameter, which we can call `purpose`, but we want this parameter to be optional with a default value of `\"none\"`.\n",
        "\n",
        "Now, `home_visit()` should first check `purpose` and then do one of the following:\n",
        "1. If `purpose == \"none\"`, we need to determine the purpose of the home visit, so ask the user what the purpose of the home visit is and give them the options\n",
        "                [1] New service installation.\n",
        "                [2] Exisitng service repair.\n",
        "                [3] Location scouting for unserviced region.\n",
        "    1. If they select `1` here, call `home_visit(\"new install\")`\n",
        "    2. If they select `2` here, call `home_visit(\"support\")`\n",
        "    3. If they select `3` here, call `home_visit(\"scout\")`\n",
        "\n",
        "For all other options, first ask the user\n",
        "                \n",
        "                Please enter a date below when you are available for a technician to come to your home and [PURPOSE SPECIFC TEXT HERE].\n",
        "\n",
        "and save their response to the variable `visit_date`, then respond \n",
        "                \n",
        "                Wonderful! A technical will come visit you on [visit_date]. Please be available between the hours of 1:00 am and 11:00 pm.\n",
        "                \n",
        "and return `visit_date`."
      ]
    },
    {
      "metadata": {
        "id": "ePkkwgzWTRKc",
        "colab_type": "code",
        "colab": {}
      },
      "cell_type": "code",
      "source": [
        "def home_visit(purpose=\"none\"):\n",
        "  if purpose == \"none\":\n",
        "    result1 = input(\"What is the purpose of the home visit you need?\\n[1] New service installation.\\n[2] Exisitng service repair.\\n[3] Location scouting for unserviced region.\\n\")\n",
        "    if result1 == 1:\n",
        "      purpose = \"new install\"\n",
        "    elif result1 == 2:\n",
        "      purpose = \"support\"\n",
        "    elif result1 == 3:\n",
        "      purpose = \"scout\"\n",
        "    else:\n",
        "      print(\"Sorry, we didn't understand your selection.\")\n",
        "      result2 = home_visit()\n",
        "  else:\n",
        "    visit_date = input(\"Please enter a date below when you are available for a technician to come to your home and \" + purpose + \".\")\n",
        "    print(\"Wonderful! A technical will come visit you on\" + visit_date +\". Please be available between the hours of 1:00 am and 11:00 pm.\")\n",
        "    result2 = visit_date\n",
        "  return result2"
      ],
      "execution_count": 0,
      "outputs": []
    },
    {
      "metadata": {
        "collapsed": true,
        "id": "IxzzpygETRKe",
        "colab_type": "text"
      },
      "cell_type": "markdown",
      "source": [
        "## Step 10\n",
        "Great work! We have one last function to define! `live_rep()` is called by several different functions, but it always called with one of two arguments, `\"sales\"` or `\"support\"`. All this function needs to do is print a message to the user based on the argument.\n",
        "\n",
        "1. If the function is called with an argument of `\"sales\"`, print \n",
        "            Please hold while we connect you with a live sales representative. The wait time will be between two minutes and six hours. We thank you for your patience.\n",
        "2. If the function is called with an argument of `\"support\"`, print \n",
        "            Please hold while we connect you with a live support representative. The wait time will be between two minutes and six hours. We thank you for your patience."
      ]
    },
    {
      "metadata": {
        "id": "js9fHaPhTRKf",
        "colab_type": "code",
        "colab": {}
      },
      "cell_type": "code",
      "source": [
        "def live_rep(purpose):\n",
        "  if purpose == \"sales\":\n",
        "    print(\"Please hold while we connect you with a live sales representative. The wait time will be between two minutes and six hours. We thank you for your patience.\")\n",
        "  else:\n",
        "    print(\"Please hold while we connect you with a live support representative. The wait time will be between two minutes and six hours. We thank you for your patience.\")"
      ],
      "execution_count": 0,
      "outputs": []
    },
    {
      "metadata": {
        "id": "lkhzYAAYTRKh",
        "colab_type": "text"
      },
      "cell_type": "markdown",
      "source": [
        "## Step 11\n",
        "\n",
        "That's it, your customer service bot should be up and running! Test your code and run `cs_service_bot` and go through some of the choices! Make sure all of your options work and you end up where you expect after each decision."
      ]
    },
    {
      "metadata": {
        "id": "BKHK0-SUTRKi",
        "colab_type": "code",
        "outputId": "dc681a1f-298c-4fa4-b1b2-54a1c53df7dc",
        "colab": {
          "base_uri": "https://localhost:8080/",
          "height": 1646
        }
      },
      "cell_type": "code",
      "source": [
        "cs_service_bot()"
      ],
      "execution_count": 0,
      "outputs": [
        {
          "output_type": "stream",
          "text": [
            "Hello! Welcome to the DNS Cable Company's Service Portal. Are you a new or existing customer?\n",
            "[1] New Customer\n",
            "[2] Existing Customer\n",
            "Please enter the number corresponding to your choice:2\n",
            "What kind of support do you need?\n",
            "[1] Television Support\n",
            "[2] Internet Support\n",
            "[3] Speak to a support representative. \n",
            "Please enter the number corresponding to your choice:2\n",
            "What is the nature of your problem?\n",
            "[1] I can't connect to the internet.\n",
            "[2] My connection is very slow.\n",
            "[3] I can't access certain sites.\n",
            "Please enter the number corresponding to your choice:3\n",
            "Move to a different region or install a VPN. Some areas block certain sites.\n",
            "Did that solve the problem? [Yes] or [No]No\n"
          ],
          "name": "stdout"
        },
        {
          "output_type": "error",
          "ename": "KeyboardInterrupt",
          "evalue": "ignored",
          "traceback": [
            "\u001b[0;31m---------------------------------------------------------------------------\u001b[0m",
            "\u001b[0;31mKeyboardInterrupt\u001b[0m                         Traceback (most recent call last)",
            "\u001b[0;32m/usr/local/lib/python3.6/dist-packages/ipykernel/kernelbase.py\u001b[0m in \u001b[0;36m_input_request\u001b[0;34m(self, prompt, ident, parent, password)\u001b[0m\n\u001b[1;32m    729\u001b[0m             \u001b[0;32mtry\u001b[0m\u001b[0;34m:\u001b[0m\u001b[0;34m\u001b[0m\u001b[0;34m\u001b[0m\u001b[0m\n\u001b[0;32m--> 730\u001b[0;31m                 \u001b[0mident\u001b[0m\u001b[0;34m,\u001b[0m \u001b[0mreply\u001b[0m \u001b[0;34m=\u001b[0m \u001b[0mself\u001b[0m\u001b[0;34m.\u001b[0m\u001b[0msession\u001b[0m\u001b[0;34m.\u001b[0m\u001b[0mrecv\u001b[0m\u001b[0;34m(\u001b[0m\u001b[0mself\u001b[0m\u001b[0;34m.\u001b[0m\u001b[0mstdin_socket\u001b[0m\u001b[0;34m,\u001b[0m \u001b[0;36m0\u001b[0m\u001b[0;34m)\u001b[0m\u001b[0;34m\u001b[0m\u001b[0;34m\u001b[0m\u001b[0m\n\u001b[0m\u001b[1;32m    731\u001b[0m             \u001b[0;32mexcept\u001b[0m \u001b[0mException\u001b[0m\u001b[0;34m:\u001b[0m\u001b[0;34m\u001b[0m\u001b[0;34m\u001b[0m\u001b[0m\n",
            "\u001b[0;32m/usr/local/lib/python3.6/dist-packages/jupyter_client/session.py\u001b[0m in \u001b[0;36mrecv\u001b[0;34m(self, socket, mode, content, copy)\u001b[0m\n\u001b[1;32m    802\u001b[0m         \u001b[0;32mtry\u001b[0m\u001b[0;34m:\u001b[0m\u001b[0;34m\u001b[0m\u001b[0;34m\u001b[0m\u001b[0m\n\u001b[0;32m--> 803\u001b[0;31m             \u001b[0mmsg_list\u001b[0m \u001b[0;34m=\u001b[0m \u001b[0msocket\u001b[0m\u001b[0;34m.\u001b[0m\u001b[0mrecv_multipart\u001b[0m\u001b[0;34m(\u001b[0m\u001b[0mmode\u001b[0m\u001b[0;34m,\u001b[0m \u001b[0mcopy\u001b[0m\u001b[0;34m=\u001b[0m\u001b[0mcopy\u001b[0m\u001b[0;34m)\u001b[0m\u001b[0;34m\u001b[0m\u001b[0;34m\u001b[0m\u001b[0m\n\u001b[0m\u001b[1;32m    804\u001b[0m         \u001b[0;32mexcept\u001b[0m \u001b[0mzmq\u001b[0m\u001b[0;34m.\u001b[0m\u001b[0mZMQError\u001b[0m \u001b[0;32mas\u001b[0m \u001b[0me\u001b[0m\u001b[0;34m:\u001b[0m\u001b[0;34m\u001b[0m\u001b[0;34m\u001b[0m\u001b[0m\n",
            "\u001b[0;32m/usr/local/lib/python3.6/dist-packages/zmq/sugar/socket.py\u001b[0m in \u001b[0;36mrecv_multipart\u001b[0;34m(self, flags, copy, track)\u001b[0m\n\u001b[1;32m    465\u001b[0m         \"\"\"\n\u001b[0;32m--> 466\u001b[0;31m         \u001b[0mparts\u001b[0m \u001b[0;34m=\u001b[0m \u001b[0;34m[\u001b[0m\u001b[0mself\u001b[0m\u001b[0;34m.\u001b[0m\u001b[0mrecv\u001b[0m\u001b[0;34m(\u001b[0m\u001b[0mflags\u001b[0m\u001b[0;34m,\u001b[0m \u001b[0mcopy\u001b[0m\u001b[0;34m=\u001b[0m\u001b[0mcopy\u001b[0m\u001b[0;34m,\u001b[0m \u001b[0mtrack\u001b[0m\u001b[0;34m=\u001b[0m\u001b[0mtrack\u001b[0m\u001b[0;34m)\u001b[0m\u001b[0;34m]\u001b[0m\u001b[0;34m\u001b[0m\u001b[0;34m\u001b[0m\u001b[0m\n\u001b[0m\u001b[1;32m    467\u001b[0m         \u001b[0;31m# have first part already, only loop while more to receive\u001b[0m\u001b[0;34m\u001b[0m\u001b[0;34m\u001b[0m\u001b[0;34m\u001b[0m\u001b[0m\n",
            "\u001b[0;32mzmq/backend/cython/socket.pyx\u001b[0m in \u001b[0;36mzmq.backend.cython.socket.Socket.recv\u001b[0;34m()\u001b[0m\n",
            "\u001b[0;32mzmq/backend/cython/socket.pyx\u001b[0m in \u001b[0;36mzmq.backend.cython.socket.Socket.recv\u001b[0;34m()\u001b[0m\n",
            "\u001b[0;32mzmq/backend/cython/socket.pyx\u001b[0m in \u001b[0;36mzmq.backend.cython.socket._recv_copy\u001b[0;34m()\u001b[0m\n",
            "\u001b[0;32m/usr/local/lib/python3.6/dist-packages/zmq/backend/cython/checkrc.pxd\u001b[0m in \u001b[0;36mzmq.backend.cython.checkrc._check_rc\u001b[0;34m()\u001b[0m\n",
            "\u001b[0;31mKeyboardInterrupt\u001b[0m: ",
            "\nDuring handling of the above exception, another exception occurred:\n",
            "\u001b[0;31mKeyboardInterrupt\u001b[0m                         Traceback (most recent call last)",
            "\u001b[0;32m<ipython-input-83-e2536fcc94ec>\u001b[0m in \u001b[0;36m<module>\u001b[0;34m()\u001b[0m\n\u001b[0;32m----> 1\u001b[0;31m \u001b[0mcs_service_bot\u001b[0m\u001b[0;34m(\u001b[0m\u001b[0;34m)\u001b[0m\u001b[0;34m\u001b[0m\u001b[0;34m\u001b[0m\u001b[0m\n\u001b[0m",
            "\u001b[0;32m<ipython-input-59-c1b941bc5347>\u001b[0m in \u001b[0;36mcs_service_bot\u001b[0;34m()\u001b[0m\n\u001b[1;32m      5\u001b[0m       \u001b[0mresult\u001b[0m \u001b[0;34m=\u001b[0m \u001b[0mnew_customer\u001b[0m\u001b[0;34m(\u001b[0m\u001b[0;34m)\u001b[0m\u001b[0;34m\u001b[0m\u001b[0;34m\u001b[0m\u001b[0m\n\u001b[1;32m      6\u001b[0m     \u001b[0;32melif\u001b[0m \u001b[0mresponse\u001b[0m\u001b[0;34m==\u001b[0m\u001b[0mstr\u001b[0m\u001b[0;34m(\u001b[0m\u001b[0;36m2\u001b[0m\u001b[0;34m)\u001b[0m \u001b[0;32mor\u001b[0m \u001b[0mresponse\u001b[0m\u001b[0;34m==\u001b[0m\u001b[0;36m2\u001b[0m\u001b[0;34m:\u001b[0m\u001b[0;34m\u001b[0m\u001b[0;34m\u001b[0m\u001b[0m\n\u001b[0;32m----> 7\u001b[0;31m       \u001b[0mresult\u001b[0m \u001b[0;34m=\u001b[0m \u001b[0mexisting_customer\u001b[0m\u001b[0;34m(\u001b[0m\u001b[0;34m)\u001b[0m\u001b[0;34m\u001b[0m\u001b[0;34m\u001b[0m\u001b[0m\n\u001b[0m\u001b[1;32m      8\u001b[0m     \u001b[0;32melse\u001b[0m\u001b[0;34m:\u001b[0m\u001b[0;34m\u001b[0m\u001b[0;34m\u001b[0m\u001b[0m\n\u001b[1;32m      9\u001b[0m       \u001b[0mresult\u001b[0m \u001b[0;34m=\u001b[0m \u001b[0;34m\"Sorry, we didn't understand your selection.\"\u001b[0m\u001b[0;34m\u001b[0m\u001b[0;34m\u001b[0m\u001b[0m\n",
            "\u001b[0;32m<ipython-input-57-2ce4dda17309>\u001b[0m in \u001b[0;36mexisting_customer\u001b[0;34m()\u001b[0m\n\u001b[1;32m      5\u001b[0m       \u001b[0mresult\u001b[0m \u001b[0;34m=\u001b[0m \u001b[0mtelevision_support\u001b[0m\u001b[0;34m(\u001b[0m\u001b[0;34m)\u001b[0m\u001b[0;34m\u001b[0m\u001b[0;34m\u001b[0m\u001b[0m\n\u001b[1;32m      6\u001b[0m     \u001b[0;32melif\u001b[0m \u001b[0mresponse\u001b[0m\u001b[0;34m==\u001b[0m\u001b[0mstr\u001b[0m\u001b[0;34m(\u001b[0m\u001b[0;36m2\u001b[0m\u001b[0;34m)\u001b[0m \u001b[0;32mor\u001b[0m \u001b[0mresponse\u001b[0m\u001b[0;34m==\u001b[0m\u001b[0;36m2\u001b[0m\u001b[0;34m:\u001b[0m\u001b[0;34m\u001b[0m\u001b[0;34m\u001b[0m\u001b[0m\n\u001b[0;32m----> 7\u001b[0;31m       \u001b[0mresult\u001b[0m \u001b[0;34m=\u001b[0m \u001b[0minternet_support\u001b[0m\u001b[0;34m(\u001b[0m\u001b[0;34m)\u001b[0m\u001b[0;34m\u001b[0m\u001b[0;34m\u001b[0m\u001b[0m\n\u001b[0m\u001b[1;32m      8\u001b[0m     \u001b[0;32melif\u001b[0m \u001b[0mresponse\u001b[0m\u001b[0;34m==\u001b[0m\u001b[0mstr\u001b[0m\u001b[0;34m(\u001b[0m\u001b[0;36m3\u001b[0m\u001b[0;34m)\u001b[0m \u001b[0;32mor\u001b[0m \u001b[0mresponse\u001b[0m\u001b[0;34m==\u001b[0m\u001b[0;36m3\u001b[0m\u001b[0;34m:\u001b[0m\u001b[0;34m\u001b[0m\u001b[0;34m\u001b[0m\u001b[0m\n\u001b[1;32m      9\u001b[0m       \u001b[0mresult\u001b[0m \u001b[0;34m=\u001b[0m \u001b[0mlive_rep\u001b[0m\u001b[0;34m(\u001b[0m\u001b[0;34m)\u001b[0m\u001b[0;34m\u001b[0m\u001b[0;34m\u001b[0m\u001b[0m\n",
            "\u001b[0;32m<ipython-input-65-c4d429cf53eb>\u001b[0m in \u001b[0;36minternet_support\u001b[0;34m()\u001b[0m\n\u001b[1;32m     10\u001b[0m   \u001b[0;32melif\u001b[0m \u001b[0mresponse\u001b[0m\u001b[0;34m==\u001b[0m\u001b[0mstr\u001b[0m\u001b[0;34m(\u001b[0m\u001b[0;36m3\u001b[0m\u001b[0;34m)\u001b[0m \u001b[0;32mor\u001b[0m \u001b[0mresponse\u001b[0m\u001b[0;34m==\u001b[0m\u001b[0;36m3\u001b[0m\u001b[0;34m:\u001b[0m\u001b[0;34m\u001b[0m\u001b[0;34m\u001b[0m\u001b[0m\n\u001b[1;32m     11\u001b[0m     \u001b[0mprint\u001b[0m\u001b[0;34m(\u001b[0m\u001b[0;34m\"Move to a different region or install a VPN. Some areas block certain sites.\"\u001b[0m\u001b[0;34m)\u001b[0m\u001b[0;34m\u001b[0m\u001b[0;34m\u001b[0m\u001b[0m\n\u001b[0;32m---> 12\u001b[0;31m     \u001b[0mresult\u001b[0m \u001b[0;34m=\u001b[0m \u001b[0mdid_that_help\u001b[0m\u001b[0;34m(\u001b[0m\u001b[0;34m)\u001b[0m\u001b[0;34m\u001b[0m\u001b[0;34m\u001b[0m\u001b[0m\n\u001b[0m\u001b[1;32m     13\u001b[0m   \u001b[0;32melif\u001b[0m \u001b[0mresponse\u001b[0m\u001b[0;34m==\u001b[0m\u001b[0mstr\u001b[0m\u001b[0;34m(\u001b[0m\u001b[0;36m4\u001b[0m\u001b[0;34m)\u001b[0m \u001b[0;32mor\u001b[0m \u001b[0mresponse\u001b[0m\u001b[0;34m==\u001b[0m\u001b[0;36m4\u001b[0m\u001b[0;34m:\u001b[0m\u001b[0;34m\u001b[0m\u001b[0;34m\u001b[0m\u001b[0m\n\u001b[1;32m     14\u001b[0m     \u001b[0mresult\u001b[0m \u001b[0;34m=\u001b[0m \u001b[0mlive_rep\u001b[0m\u001b[0;34m(\u001b[0m\u001b[0;34m\"Support\"\u001b[0m\u001b[0;34m)\u001b[0m\u001b[0;34m\u001b[0m\u001b[0;34m\u001b[0m\u001b[0m\n",
            "\u001b[0;32m<ipython-input-68-c2d71238fd04>\u001b[0m in \u001b[0;36mdid_that_help\u001b[0;34m()\u001b[0m\n\u001b[1;32m      4\u001b[0m     \u001b[0mprint\u001b[0m\u001b[0;34m(\u001b[0m\u001b[0;34m\"thank you\"\u001b[0m\u001b[0;34m)\u001b[0m\u001b[0;34m\u001b[0m\u001b[0;34m\u001b[0m\u001b[0m\n\u001b[1;32m      5\u001b[0m   \u001b[0;32melif\u001b[0m \u001b[0mresponse1\u001b[0m \u001b[0;34m==\u001b[0m\u001b[0;34m\"No\"\u001b[0m \u001b[0;32mor\u001b[0m \u001b[0minput\u001b[0m \u001b[0;34m==\u001b[0m \u001b[0;34m\"no\"\u001b[0m\u001b[0;34m:\u001b[0m\u001b[0;34m\u001b[0m\u001b[0;34m\u001b[0m\u001b[0m\n\u001b[0;32m----> 6\u001b[0;31m     \u001b[0mresponse2\u001b[0m \u001b[0;34m=\u001b[0m \u001b[0minput\u001b[0m\u001b[0;34m(\u001b[0m\u001b[0;34m\"Would you like to:\\n  [1]Talk to a live representative.\\n . [2]Schedule a home visit.\"\u001b[0m\u001b[0;34m)\u001b[0m\u001b[0;34m\u001b[0m\u001b[0;34m\u001b[0m\u001b[0m\n\u001b[0m\u001b[1;32m      7\u001b[0m     \u001b[0;32mif\u001b[0m \u001b[0mresponse2\u001b[0m\u001b[0;34m==\u001b[0m\u001b[0mstr\u001b[0m\u001b[0;34m(\u001b[0m\u001b[0;36m1\u001b[0m\u001b[0;34m)\u001b[0m \u001b[0;32mor\u001b[0m \u001b[0mresponse\u001b[0m\u001b[0;34m==\u001b[0m\u001b[0;36m1\u001b[0m\u001b[0;34m:\u001b[0m\u001b[0;34m\u001b[0m\u001b[0;34m\u001b[0m\u001b[0m\n\u001b[1;32m      8\u001b[0m       \u001b[0mresult\u001b[0m \u001b[0;34m=\u001b[0m \u001b[0mlive_rep\u001b[0m\u001b[0;34m(\u001b[0m\u001b[0;34m\"support\"\u001b[0m\u001b[0;34m)\u001b[0m\u001b[0;34m\u001b[0m\u001b[0;34m\u001b[0m\u001b[0m\n",
            "\u001b[0;32m/usr/local/lib/python3.6/dist-packages/ipykernel/kernelbase.py\u001b[0m in \u001b[0;36mraw_input\u001b[0;34m(self, prompt)\u001b[0m\n\u001b[1;32m    703\u001b[0m             \u001b[0mself\u001b[0m\u001b[0;34m.\u001b[0m\u001b[0m_parent_ident\u001b[0m\u001b[0;34m,\u001b[0m\u001b[0;34m\u001b[0m\u001b[0;34m\u001b[0m\u001b[0m\n\u001b[1;32m    704\u001b[0m             \u001b[0mself\u001b[0m\u001b[0;34m.\u001b[0m\u001b[0m_parent_header\u001b[0m\u001b[0;34m,\u001b[0m\u001b[0;34m\u001b[0m\u001b[0;34m\u001b[0m\u001b[0m\n\u001b[0;32m--> 705\u001b[0;31m             \u001b[0mpassword\u001b[0m\u001b[0;34m=\u001b[0m\u001b[0;32mFalse\u001b[0m\u001b[0;34m,\u001b[0m\u001b[0;34m\u001b[0m\u001b[0;34m\u001b[0m\u001b[0m\n\u001b[0m\u001b[1;32m    706\u001b[0m         )\n\u001b[1;32m    707\u001b[0m \u001b[0;34m\u001b[0m\u001b[0m\n",
            "\u001b[0;32m/usr/local/lib/python3.6/dist-packages/ipykernel/kernelbase.py\u001b[0m in \u001b[0;36m_input_request\u001b[0;34m(self, prompt, ident, parent, password)\u001b[0m\n\u001b[1;32m    733\u001b[0m             \u001b[0;32mexcept\u001b[0m \u001b[0mKeyboardInterrupt\u001b[0m\u001b[0;34m:\u001b[0m\u001b[0;34m\u001b[0m\u001b[0;34m\u001b[0m\u001b[0m\n\u001b[1;32m    734\u001b[0m                 \u001b[0;31m# re-raise KeyboardInterrupt, to truncate traceback\u001b[0m\u001b[0;34m\u001b[0m\u001b[0;34m\u001b[0m\u001b[0;34m\u001b[0m\u001b[0m\n\u001b[0;32m--> 735\u001b[0;31m                 \u001b[0;32mraise\u001b[0m \u001b[0mKeyboardInterrupt\u001b[0m\u001b[0;34m\u001b[0m\u001b[0;34m\u001b[0m\u001b[0m\n\u001b[0m\u001b[1;32m    736\u001b[0m             \u001b[0;32melse\u001b[0m\u001b[0;34m:\u001b[0m\u001b[0;34m\u001b[0m\u001b[0;34m\u001b[0m\u001b[0m\n\u001b[1;32m    737\u001b[0m                 \u001b[0;32mbreak\u001b[0m\u001b[0;34m\u001b[0m\u001b[0;34m\u001b[0m\u001b[0m\n",
            "\u001b[0;31mKeyboardInterrupt\u001b[0m: "
          ]
        }
      ]
    },
    {
      "metadata": {
        "id": "NWfcRZm_TRKl",
        "colab_type": "text"
      },
      "cell_type": "markdown",
      "source": [
        "## You're Done!\n",
        "\n",
        "Great work! Using very simple functions and conditional stables you were able to build a working customer service bot! While it might be a little limited in it's current state, you can always keep adding to it, making each individual function more robust. Some suggestions, try adding in a option to each menu that allows the user to exit without clicking through the entire tree.\n",
        "\n",
        "You can even build other types of projects using similar techniques! Try building a chat bot that can respond to what you say and ask you questions, or create a text based adventure game where players can make choices to do different actions.\n",
        "\n",
        "The possibilities are endless! So keep going and happy programming!"
      ]
    }
  ]
}
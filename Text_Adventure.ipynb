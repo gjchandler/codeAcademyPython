{
  "nbformat": 4,
  "nbformat_minor": 0,
  "metadata": {
    "colab": {
      "name": "Text Adventure.ipynb",
      "version": "0.3.2",
      "provenance": [],
      "include_colab_link": true
    },
    "kernelspec": {
      "name": "python3",
      "display_name": "Python 3"
    }
  },
  "cells": [
    {
      "cell_type": "markdown",
      "metadata": {
        "id": "view-in-github",
        "colab_type": "text"
      },
      "source": [
        "<a href=\"https://colab.research.google.com/github/gjchandler/codeAcademyPython/blob/master/Text_Adventure.ipynb\" target=\"_parent\"><img src=\"https://colab.research.google.com/assets/colab-badge.svg\" alt=\"Open In Colab\"/></a>"
      ]
    },
    {
      "metadata": {
        "id": "3bjhLKH9NJ2e",
        "colab_type": "code",
        "colab": {}
      },
      "cell_type": "code",
      "source": [
        "#First we need to establish a methodology for random chance.\n",
        "#Find a dice roller online somewhere, there are several tutorials for rollers out there.\n",
        "#Let's set it up as a function, so we can use it easily within some arguments. Let's make the default input be a single D20\n",
        "\n",
        "\n",
        "\n",
        "#Now that we have that set up, let's create our first scenario. Let's start with \"... You're walking in the woods...\" with one outcome being \"There is no one around and your phone is dead\" and provide a few other possible outcome.\n",
        "\n",
        "#what happens next? each outcome should have a next possibility."
      ],
      "execution_count": 0,
      "outputs": []
    }
  ]
}